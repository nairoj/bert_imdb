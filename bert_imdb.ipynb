{
  "nbformat": 4,
  "nbformat_minor": 0,
  "metadata": {
    "colab": {
      "name": "bert_imdb",
      "provenance": [],
      "collapsed_sections": [],
      "include_colab_link": true
    },
    "kernelspec": {
      "name": "python3",
      "display_name": "Python 3"
    },
    "accelerator": "GPU"
  },
  "cells": [
    {
      "cell_type": "markdown",
      "metadata": {
        "id": "view-in-github",
        "colab_type": "text"
      },
      "source": [
        "<a href=\"https://colab.research.google.com/github/nairoj/bert_imdb/blob/master/bert_imdb.ipynb\" target=\"_parent\"><img src=\"https://colab.research.google.com/assets/colab-badge.svg\" alt=\"Open In Colab\"/></a>"
      ]
    },
    {
      "cell_type": "code",
      "metadata": {
        "id": "TN2c5pFwFo39",
        "colab_type": "code",
        "colab": {}
      },
      "source": [
        "!git clone https://github.com/nairoj/transformers.git"
      ],
      "execution_count": 0,
      "outputs": []
    },
    {
      "cell_type": "code",
      "metadata": {
        "id": "DDnjuutMK49n",
        "colab_type": "code",
        "colab": {}
      },
      "source": [
        "import os\n",
        "os.chdir('transformers')"
      ],
      "execution_count": 0,
      "outputs": []
    },
    {
      "cell_type": "code",
      "metadata": {
        "id": "frlU7285QVUI",
        "colab_type": "code",
        "colab": {}
      },
      "source": [
        "!pwd"
      ],
      "execution_count": 0,
      "outputs": []
    },
    {
      "cell_type": "code",
      "metadata": {
        "id": "KwA6Go36p6Wi",
        "colab_type": "code",
        "colab": {}
      },
      "source": [
        "!pip install ."
      ],
      "execution_count": 0,
      "outputs": []
    },
    {
      "cell_type": "code",
      "metadata": {
        "colab_type": "code",
        "id": "pizDBof62YQW",
        "colab": {}
      },
      "source": [
        "# 训练\n",
        "!python ./examples/run_glue.py \\\n",
        "    --model_type bert \\\n",
        "    --model_name_or_path bert-base-uncased \\\n",
        "    --task_name imdb \\\n",
        "    --evaluate_during_training \\\n",
        "    --do_train \\\n",
        "    --do_eval \\\n",
        "    --do_lower_case \\\n",
        "    --data_dir ./examples/data/imdb \\\n",
        "    --max_seq_length 128 \\\n",
        "    --per_gpu_eval_batch_size=32   \\\n",
        "    --per_gpu_train_batch_size=32   \\\n",
        "    --learning_rate 2e-5 \\\n",
        "    --num_train_epochs 3.0 \\\n",
        "    --output_dir ./res/imdb/ \\\n",
        "    --save_steps 3000 \\\n",
        "    --logging_steps 3000"
      ],
      "execution_count": 0,
      "outputs": []
    },
    {
      "cell_type": "code",
      "metadata": {
        "id": "-UziMAps6B7U",
        "colab_type": "code",
        "colab": {}
      },
      "source": [
        "# 删掉验证集合的cache\n",
        "!rm ./examples/data/imdb/cached_dev*"
      ],
      "execution_count": 0,
      "outputs": []
    },
    {
      "cell_type": "code",
      "metadata": {
        "id": "cK6Up8FeX2Ye",
        "colab_type": "code",
        "colab": {}
      },
      "source": [
        "# 测试\n",
        "!python ./examples/run_glue.py \\\n",
        "    --model_type bert \\\n",
        "    --model_name_or_path bert-base-uncased \\\n",
        "    --task_name imdb \\\n",
        "    --do_eval \\\n",
        "    --do_test \\\n",
        "    --do_lower_case \\\n",
        "    --data_dir ./examples/data/imdb \\\n",
        "    --max_seq_length 128 \\\n",
        "    --per_gpu_eval_batch_size=64   \\\n",
        "    --learning_rate 2e-5 \\\n",
        "    --output_dir ./res/imdb/ "
      ],
      "execution_count": 0,
      "outputs": []
    }
  ]
}